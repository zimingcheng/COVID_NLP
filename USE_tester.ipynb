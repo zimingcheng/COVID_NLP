{
 "cells": [
  {
   "cell_type": "markdown",
   "metadata": {},
   "source": [
    "This script is to test how the Universal Sentence Encoder behave in certain situations. It supports two functions: you can either calculate the USE similarity value for two phrases, or import an excel file with two columns: text1 and text2."
   ]
  },
  {
   "cell_type": "markdown",
   "metadata": {},
   "source": [
    "**Important!**\n",
    "If you're running this script for the first time, open \"Anaconda Prompt\", and type in \"pip install tensorflow\" and \"pip install tensorflow_hub\""
   ]
  },
  {
   "cell_type": "code",
   "execution_count": 5,
   "metadata": {},
   "outputs": [],
   "source": [
    "# load packages and USE\n",
    "import pandas as pd \n",
    "import numpy as np\n",
    "import tensorflow_hub as hub\n",
    "USE = hub.load(\"https://tfhub.dev/google/universal-sentence-encoder/4\")\n",
    "# If it says cannot locate the model, just go to the tensorflow folder and delete the folder\n",
    "# (the one with long and meaningless name). It will force the program to re-download the model\n",
    "# from the website above. "
   ]
  },
  {
   "cell_type": "code",
   "execution_count": 6,
   "metadata": {
    "code_folding": []
   },
   "outputs": [],
   "source": [
    "# define functions\n",
    "def USE_similarity(USE, sentence1, sentence2):\n",
    "    \"\"\"\n",
    "    Return the similarity as calculated in the universal sentence encoder\n",
    "    between <sentence1> and <sentence2>. <USE> stands for an already-imported\n",
    "    pretrained USE model.\n",
    "    \"\"\"\n",
    "    USE_output = np.array(USE([sentence1, sentence2]))\n",
    "    similarity = np.inner(USE_output[0], USE_output[1])\n",
    "    return similarity\n",
    "\n",
    "def USE_similarity_excel(USE, filename):\n",
    "    \"\"\"\n",
    "    Run USE_similarity on excel file <filename>.\n",
    "    \"\"\"\n",
    "    df = pd.read_excel(f'{filename}.xlsx')\n",
    "    df['similarity'] = df.apply(lambda x: USE_similarity(USE, x.text1, x.text2), axis=1)\n",
    "    df.to_excel(f'{filename}_output.xlsx')\n",
    "    return df"
   ]
  },
  {
   "cell_type": "code",
   "execution_count": 7,
   "metadata": {},
   "outputs": [
    {
     "name": "stdout",
     "output_type": "stream",
     "text": [
      "WARNING:tensorflow:5 out of the last 6 calls to <function recreate_function.<locals>.restored_function_body at 0x000001EC68A4EF70> triggered tf.function retracing. Tracing is expensive and the excessive number of tracings could be due to (1) creating @tf.function repeatedly in a loop, (2) passing tensors with different shapes, (3) passing Python objects instead of tensors. For (1), please define your @tf.function outside of the loop. For (2), @tf.function has experimental_relax_shapes=True option that relaxes argument shapes that can avoid unnecessary retracing. For (3), please refer to https://www.tensorflow.org/tutorials/customization/performance#python_or_tensor_args and https://www.tensorflow.org/api_docs/python/tf/function for  more details.\n"
     ]
    },
    {
     "name": "stderr",
     "output_type": "stream",
     "text": [
      "WARNING:tensorflow:5 out of the last 6 calls to <function recreate_function.<locals>.restored_function_body at 0x000001EC68A4EF70> triggered tf.function retracing. Tracing is expensive and the excessive number of tracings could be due to (1) creating @tf.function repeatedly in a loop, (2) passing tensors with different shapes, (3) passing Python objects instead of tensors. For (1), please define your @tf.function outside of the loop. For (2), @tf.function has experimental_relax_shapes=True option that relaxes argument shapes that can avoid unnecessary retracing. For (3), please refer to https://www.tensorflow.org/tutorials/customization/performance#python_or_tensor_args and https://www.tensorflow.org/api_docs/python/tf/function for  more details.\n"
     ]
    },
    {
     "data": {
      "text/plain": [
       "0.48818177"
      ]
     },
     "execution_count": 7,
     "metadata": {},
     "output_type": "execute_result"
    }
   ],
   "source": [
    "USE_similarity(USE, 'apple', 'banana')"
   ]
  },
  {
   "cell_type": "code",
   "execution_count": 8,
   "metadata": {},
   "outputs": [
    {
     "data": {
      "text/html": [
       "<div>\n",
       "<style scoped>\n",
       "    .dataframe tbody tr th:only-of-type {\n",
       "        vertical-align: middle;\n",
       "    }\n",
       "\n",
       "    .dataframe tbody tr th {\n",
       "        vertical-align: top;\n",
       "    }\n",
       "\n",
       "    .dataframe thead th {\n",
       "        text-align: right;\n",
       "    }\n",
       "</style>\n",
       "<table border=\"1\" class=\"dataframe\">\n",
       "  <thead>\n",
       "    <tr style=\"text-align: right;\">\n",
       "      <th></th>\n",
       "      <th>text1</th>\n",
       "      <th>text2</th>\n",
       "      <th>similarity</th>\n",
       "    </tr>\n",
       "  </thead>\n",
       "  <tbody>\n",
       "    <tr>\n",
       "      <th>0</th>\n",
       "      <td>apple</td>\n",
       "      <td>banana</td>\n",
       "      <td>0.488182</td>\n",
       "    </tr>\n",
       "    <tr>\n",
       "      <th>1</th>\n",
       "      <td>banana</td>\n",
       "      <td>watermelon</td>\n",
       "      <td>0.483925</td>\n",
       "    </tr>\n",
       "    <tr>\n",
       "      <th>2</th>\n",
       "      <td>pear</td>\n",
       "      <td>peach</td>\n",
       "      <td>0.421444</td>\n",
       "    </tr>\n",
       "  </tbody>\n",
       "</table>\n",
       "</div>"
      ],
      "text/plain": [
       "    text1       text2  similarity\n",
       "0   apple      banana    0.488182\n",
       "1  banana  watermelon    0.483925\n",
       "2    pear       peach    0.421444"
      ]
     },
     "execution_count": 8,
     "metadata": {},
     "output_type": "execute_result"
    }
   ],
   "source": [
    "# you don't need extensions in the filename, but it has to be excel (no csv)\n",
    "USE_similarity_excel(USE, 'test')"
   ]
  }
 ],
 "metadata": {
  "kernelspec": {
   "display_name": "Python 3",
   "language": "python",
   "name": "python3"
  },
  "language_info": {
   "codemirror_mode": {
    "name": "ipython",
    "version": 3
   },
   "file_extension": ".py",
   "mimetype": "text/x-python",
   "name": "python",
   "nbconvert_exporter": "python",
   "pygments_lexer": "ipython3",
   "version": "3.8.3"
  }
 },
 "nbformat": 4,
 "nbformat_minor": 4
}
